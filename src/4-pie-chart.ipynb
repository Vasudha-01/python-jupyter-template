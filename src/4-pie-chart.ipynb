{
 "cells": [
  {
   "cell_type": "markdown",
   "metadata": {},
   "source": [
    "### Exercise 4: Pie Chart with Percentages"
   ]
  },
  {
   "cell_type": "code",
   "execution_count": null,
   "metadata": {},
   "outputs": [],
   "source": [
    "# TASK: Create a pie chart with the following data: labels = ['Python', 'Java', 'C++', 'JavaScript'] and sizes = [40, 25, 20, 15].\n",
    "# Display the percentages on the chart using autopct."
   ]
  },
  {
   "cell_type": "code",
   "execution_count": null,
   "metadata": {},
   "outputs": [
    {
     "ename": "",
     "evalue": "",
     "output_type": "error",
     "traceback": [
      "\u001b[1;31mFailed to start the Kernel. \n",
      "\u001b[1;31mzmq.error.ZMQError: Address already in use. \n",
      "\u001b[1;31mView Jupyter <a href='command:jupyter.viewOutput'>log</a> for further details."
     ]
    }
   ],
   "source": [
    "import matplotlib.pyplot as plt\n",
    "\n",
    "def validate_and_normalize_pie_data(labels, sizes):\n",
    "   \n",
    "    if not labels or not sizes:\n",
    "        raise ValueError(\"Both 'labels' and 'sizes' must be non-empty.\")\n",
    "    if len(labels) != len(sizes):\n",
    "        raise ValueError(\"Length of 'labels' and 'sizes' must match.\")\n",
    "    if not all(isinstance(size, (int, float)) and size >= 0 for size in sizes):\n",
    "        raise ValueError(\"'sizes' must contain non-negative numbers only.\")\n",
    "    if not all(isinstance(label, str) for label in labels):\n",
    "        raise ValueError(\"All labels must be strings.\")\n",
    "    \n",
    "    total = sum(sizes)\n",
    "    if total == 0:\n",
    "        raise ValueError(\"Sum of 'sizes' must be greater than zero.\")\n",
    "    if total != 100:\n",
    "        sizes = [s * 100 / total for s in sizes]\n",
    "    \n",
    "    return labels, sizes\n",
    "\n",
    "# Input data\n",
    "labels = ['Python', 'Java', 'C++', 'JavaScript']\n",
    "sizes = [40, 25, 20, 15]\n",
    "colors = ['gold', 'skyblue', 'lightcoral', 'limegreen']\n",
    "\n",
    "# Validate and normalize\n",
    "labels, sizes = validate_and_normalize_pie_data(labels, sizes)\n",
    "\n",
    "# Plotting\n",
    "plt.figure(figsize=(7, 7))\n",
    "plt.pie(sizes, labels=labels, colors=colors, autopct='%1.1f%%', startangle=140)\n",
    "plt.title(\"Programming Language Usage\")\n",
    "plt.axis('equal')  # Ensures a circular pie chart\n",
    "plt.tight_layout()\n",
    "plt.show()\n"
   ]
  },
  {
   "cell_type": "code",
   "execution_count": null,
   "metadata": {},
   "outputs": [],
   "source": []
  }
 ],
 "metadata": {
  "kernelspec": {
   "display_name": "Python 3",
   "language": "python",
   "name": "python3"
  },
  "language_info": {
   "codemirror_mode": {
    "name": "ipython",
    "version": 3
   },
   "file_extension": ".py",
   "mimetype": "text/x-python",
   "name": "python",
   "nbconvert_exporter": "python",
   "pygments_lexer": "ipython3",
   "version": "3.10.12"
  }
 },
 "nbformat": 4,
 "nbformat_minor": 2
}
